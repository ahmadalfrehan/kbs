{
 "cells": [
  {
   "cell_type": "code",
   "execution_count": 1,
   "id": "72abf73f",
   "metadata": {},
   "outputs": [],
   "source": [
    "from experta import *\n",
    "class DietaryRequirement(Fact):\n",
    "    pass\n",
    "\n",
    "class HealthGoal(Fact):\n",
    "    pass\n",
    "\n",
    "class PersonalPreference(Fact):\n",
    "    pass\n",
    "\n",
    "class Food(Fact):\n",
    "    pass\n",
    "\n",
    "class Recommendation(Fact):\n",
    "    pass\n",
    "\n",
    "class HealthFoodRecommendationSystem(KnowledgeEngine):\n",
    "    @Rule(DietaryRequirement(MATCH.diet_req))\n",
    "    def recommend_foods(self, diet_req):\n",
    "        if diet_req == 'vegetarian':\n",
    "            self.declare(Recommendation('Tofu'))\n",
    "            self.declare(Recommendation('Quinoa'))\n",
    "        elif diet_req == 'vegan':\n",
    "            self.declare(Recommendation('Lentils'))\n",
    "            self.declare(Recommendation('Chickpeas'))\n",
    "\n",
    "    @Rule(HealthGoal(MATCH.health_goal))\n",
    "    def recommend_weight_loss_foods(self, health_goal):\n",
    "        if health_goal == 'weight loss':\n",
    "            self.declare(Recommendation('Leafy greens'))\n",
    "            self.declare(Recommendation('Salmon'))\n",
    "        elif health_goal == 'muscle gain':\n",
    "            self.declare(Recommendation('Chicken breast'))\n",
    "            self.declare(Recommendation('Greek yogurt'))\n",
    "\n",
    "    @Rule(PersonalPreference(MATCH.preference))\n",
    "    def recommend_spicy_foods(self, preference):\n",
    "        if preference == 'spicy':\n",
    "            self.declare(Recommendation('Salsa'))\n",
    "            self.declare(Recommendation('Curry'))\n",
    "        elif preference == 'sweet':\n",
    "            self.declare(Recommendation('Berries'))\n",
    "            self.declare(Recommendation('Dark chocolate'))\n",
    "\n",
    "\n",
    "    def recommend_food(self):\n",
    "        self.reset()\n",
    "        diet_req = input(\"Enter your dietary requirement (vegetarian, vegan): \")\n",
    "        self.declare(DietaryRequirement(diet_req))\n",
    "        health_goal = input(\"Enter your health goal (weight loss, muscle gain): \")\n",
    "        self.declare(HealthGoal(health_goal))\n",
    "        preference = input(\"Enter your personal preference (spicy, sweet): \")\n",
    "        self.declare(PersonalPreference(preference))\n",
    "        self.run()"
   ]
  },
  {
   "cell_type": "code",
   "execution_count": 2,
   "id": "71198be1",
   "metadata": {},
   "outputs": [
    {
     "name": "stderr",
     "output_type": "stream",
     "text": [
      "INFO:     Started server process [17496]\n",
      "INFO:     Waiting for application startup.\n",
      "INFO:     Application startup complete.\n",
      "INFO:     Uvicorn running on http://127.0.0.1:8000 (Press CTRL+C to quit)\n"
     ]
    }
   ],
   "source": [
    "from fastapi import *\n",
    "app  = FastAPI()\n",
    "@app.get('/')\n",
    "async def index():\n",
    "    return {\"message\":\"hello\"}\n",
    "import asyncio\n",
    "from fastapi import FastAPI\n",
    "from uvicorn import Config, Server\n",
    "from pydantic import BaseModel\n",
    "\n",
    "config = Config(app)\n",
    "server = Server(config=config)\n",
    "\n",
    "loop = asyncio.get_event_loop()\n",
    "loop.create_task(server.serve())\n",
    "class UserInput(Fact):\n",
    "    pass\n",
    "\n",
    "@app.post('/types/')\n",
    "async def recommend(request: Request):\n",
    "    input = await request.json()\n",
    "    engine = HealthFoodRecommendationSystem()\n",
    "    engine.reset()\n",
    "    engine.run()\n",
    "    print(input)\n",
    "    if(input['input']=='vegetarian'):\n",
    "        items  = [engine.declare(Recommendation('Tofu')),engine.declare(Recommendation('Quinoa'))]\n",
    "        return {'message': items}\n",
    "    elif(input['input']=='vegan'):\n",
    "        items2  = [engine.declare(Recommendation('Lentils')),engine.declare(Recommendation('Chickpeas'))]\n",
    "        return {'message': items2}\n",
    "    \n",
    "@app.post('/spicy-sweet/')\n",
    "async def recommendedation(request:Request):\n",
    "    input = await request.json()\n",
    "    engine = HealthFoodRecommendationSystem()\n",
    "    engine.reset()\n",
    "    engine.run()\n",
    "    if(input['input']=='spicy'):\n",
    "        items  = [engine.declare(Recommendation('Salsa')),engine.declare(Recommendation('Curry'))]\n",
    "        return {'message': items}\n",
    "    elif(input['input']=='sweet'):\n",
    "        items2  = [engine.declare(Recommendation('Dark chocolate')),engine.declare(Recommendation('Berries'))]\n",
    "        return {'message': items2}\n",
    "    \n",
    "\n",
    "@app.post('/weight-muscle/')\n",
    "async def recommend_weight_loss_foods_apis(request:Request):\n",
    "    input = await request.json()\n",
    "    engine = HealthFoodRecommendationSystem()\n",
    "    engine.reset()\n",
    "    engine.run()\n",
    "    if (input['input']=='weight loss'):\n",
    "         items = [engine.declare(Recommendation('Leafy greens')),engine.declare(Recommendation('Salmon'))]\n",
    "         return {\"message\":items}\n",
    "    elif (input['input']=='muscle gain'):\n",
    "        items  = [engine.declare(Recommendation('Chicken breast')),engine.declare(Recommendation('Greek yogurt'))]\n",
    "        return {\"message\":items}\n"
   ]
  },
  {
   "cell_type": "code",
   "execution_count": 4,
   "id": "b35d85cb",
   "metadata": {},
   "outputs": [
    {
     "ename": "ModuleNotFoundError",
     "evalue": "No module named 'cv2'",
     "output_type": "error",
     "traceback": [
      "\u001b[1;31m---------------------------------------------------------------------------\u001b[0m",
      "\u001b[1;31mModuleNotFoundError\u001b[0m                       Traceback (most recent call last)",
      "\u001b[1;32m~\\AppData\\Local\\Temp\\ipykernel_3220\\1873971757.py\u001b[0m in \u001b[0;36m<module>\u001b[1;34m\u001b[0m\n\u001b[0;32m      1\u001b[0m \u001b[1;32mfrom\u001b[0m \u001b[0mfastapi\u001b[0m \u001b[1;32mimport\u001b[0m \u001b[0mFastAPI\u001b[0m\u001b[1;33m,\u001b[0m \u001b[0mWebSocket\u001b[0m\u001b[1;33m,\u001b[0m \u001b[0mWebSocketDisconnect\u001b[0m\u001b[1;33m\u001b[0m\u001b[1;33m\u001b[0m\u001b[0m\n\u001b[1;32m----> 2\u001b[1;33m \u001b[1;32mimport\u001b[0m \u001b[0mcv2\u001b[0m\u001b[1;33m\u001b[0m\u001b[1;33m\u001b[0m\u001b[0m\n\u001b[0m\u001b[0;32m      3\u001b[0m \u001b[1;32mimport\u001b[0m \u001b[0mnumpy\u001b[0m \u001b[1;32mas\u001b[0m \u001b[0mnp\u001b[0m\u001b[1;33m\u001b[0m\u001b[1;33m\u001b[0m\u001b[0m\n\u001b[0;32m      4\u001b[0m \u001b[1;33m\u001b[0m\u001b[0m\n\u001b[0;32m      5\u001b[0m \u001b[0mapp\u001b[0m \u001b[1;33m=\u001b[0m \u001b[0mFastAPI\u001b[0m\u001b[1;33m(\u001b[0m\u001b[1;33m)\u001b[0m\u001b[1;33m\u001b[0m\u001b[1;33m\u001b[0m\u001b[0m\n",
      "\u001b[1;31mModuleNotFoundError\u001b[0m: No module named 'cv2'"
     ]
    }
   ],
   "source": [
    "from fastapi import FastAPI, WebSocket, WebSocketDisconnect\n",
    "import cv2\n",
    "import numpy as np\n",
    "\n",
    "app = FastAPI()\n",
    "\n",
    "@app.websocket(\"/ws\")\n",
    "async def websocket_endpoint(websocket: WebSocket):\n",
    "    # listen for connections\n",
    "    await websocket.accept()\n",
    "    #count = 1\n",
    "    try:\n",
    "        while True:\n",
    "            contents = await websocket.receive_bytes()\n",
    "            arr = np.frombuffer(contents, np.uint8)\n",
    "            frame = cv2.imdecode(arr, cv2.IMREAD_UNCHANGED)\n",
    "            cv2.imshow('frame', frame)\n",
    "            cv2.waitKey(1)\n",
    "            #cv2.imwrite(\"frame%d.png\" % count, frame)\n",
    "            #count += 1\n",
    "    except WebSocketDisconnect:\n",
    "        cv2.destroyWindow(\"frame\")\n",
    "        print(\"Client disconnected\") "
   ]
  },
  {
   "cell_type": "code",
   "execution_count": 5,
   "id": "dab12449",
   "metadata": {},
   "outputs": [
    {
     "name": "stderr",
     "output_type": "stream",
     "text": [
      "ERROR: Could not find a version that satisfies the requirement cv2 (from versions: none)\n",
      "ERROR: No matching distribution found for cv2\n"
     ]
    }
   ],
   "source": [
    "!pip install cv2"
   ]
  },
  {
   "cell_type": "code",
   "execution_count": null,
   "id": "0c2ffec9",
   "metadata": {},
   "outputs": [],
   "source": []
  }
 ],
 "metadata": {
  "kernelspec": {
   "display_name": "Python 3 (ipykernel)",
   "language": "python",
   "name": "python3"
  },
  "language_info": {
   "codemirror_mode": {
    "name": "ipython",
    "version": 3
   },
   "file_extension": ".py",
   "mimetype": "text/x-python",
   "name": "python",
   "nbconvert_exporter": "python",
   "pygments_lexer": "ipython3",
   "version": "3.9.13"
  }
 },
 "nbformat": 4,
 "nbformat_minor": 5
}
